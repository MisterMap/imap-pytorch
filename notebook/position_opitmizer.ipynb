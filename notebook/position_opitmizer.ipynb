{
 "cells": [
  {
   "cell_type": "code",
   "execution_count": 76,
   "id": "e03d2f43",
   "metadata": {},
   "outputs": [],
   "source": [
    "import sys\n",
    "path = \"/usr/local/lib/python3.9/dist-packages/liegroups-1.1.0-py3.9.egg\"\n",
    "if path not in sys.path:\n",
    "    sys.path.append(path)\n",
    "    \n",
    "import numpy as np\n",
    "import matplotlib.pyplot as plt\n",
    "from scipy.spatial.transform import Rotation\n",
    "\n",
    "import liegroups\n",
    "import lietorch\n",
    "\n",
    "from liegroups.torch import SE3\n",
    "import torch"
   ]
  },
  {
   "cell_type": "code",
   "execution_count": 239,
   "id": "203012d8",
   "metadata": {},
   "outputs": [],
   "source": [
    "class Position3(object):\n",
    "    def __init__(self, translation, rotation):\n",
    "        self._rotation = rotation\n",
    "        self._translation = translation\n",
    "        \n",
    "    @classmethod\n",
    "    def from_vec(cls, vec):\n",
    "        if len(vec.shape) == 1:\n",
    "            translation = vec[:3]\n",
    "            rotation = Rotation.from_euler('xyz', vec[3:], degrees=False)\n",
    "        return cls(translation, rotation)\n",
    "    \n",
    "    def inv(self):\n",
    "        rotation = self._rotation.inv()\n",
    "        translation = -rotation.apply(self._translation)\n",
    "        return Position3(translation, rotation)\n",
    "\n",
    "    def __mul__(self, other):\n",
    "        rotation = self._rotation * other._rotation\n",
    "        translation = self._translation + self._rotation.apply(other._translation)\n",
    "        return Position3(translation, rotation)\n",
    "    \n",
    "    def apply(self, points):\n",
    "        return self._translation + self._rotation.apply(points)\n",
    "    \n",
    "    def as_matrix(self, full=True):\n",
    "        if len(self._translation.shape) == 1:\n",
    "            if full:\n",
    "                result = np.zeros((4, 4))\n",
    "                result[3, 3] = 1\n",
    "            else:\n",
    "                result = np.zeros((3, 4))\n",
    "            result[:3, :3] = self._rotation.as_matrix()\n",
    "            result[:3, 3] = self._translation\n",
    "            return result\n",
    "    \n",
    "    def as_qvec(self):\n",
    "        if len(self._translation.shape) == 1:\n",
    "            result = np.zeros(7)\n",
    "            result[:3] = self._translation\n",
    "            result[3:] = self._rotation.as_quat()\n",
    "            return result\n",
    "\n",
    "    def as_se3(self):\n",
    "        tensor = torch.tensor(self.as_matrix().astype(np.float32))[None]\n",
    "        return SE3.from_matrix(tensor)\n",
    "    \n",
    "    def as_se3_torch(self, requires_grad=False):\n",
    "        tensor = torch.tensor(self.as_qvec().astype(np.float32)[None], requires_grad=requires_grad)\n",
    "#         tensor.retain_grad(True)\n",
    "        return lietorch.SE3(tensor)"
   ]
  },
  {
   "cell_type": "markdown",
   "id": "b8fc7ec2",
   "metadata": {},
   "source": [
    "# Generate points"
   ]
  },
  {
   "cell_type": "code",
   "execution_count": 240,
   "id": "86d2ef5b",
   "metadata": {},
   "outputs": [
    {
     "data": {
      "text/plain": [
       "array([[2.71702471, 1.39184693, 0.        ],\n",
       "       [2.12258795, 4.22388066, 0.        ],\n",
       "       [0.02359428, 0.6078456 , 0.        ],\n",
       "       [3.35374542, 4.12926378, 0.        ],\n",
       "       [0.68353295, 2.87546665, 0.        ],\n",
       "       [4.45660977, 1.04601061, 0.        ],\n",
       "       [0.9266411 , 0.54188445, 0.        ],\n",
       "       [1.09848746, 4.89311892, 0.        ],\n",
       "       [4.05841575, 0.85970506, 0.        ],\n",
       "       [4.08112374, 1.37036874, 0.        ]])"
      ]
     },
     "execution_count": 240,
     "metadata": {},
     "output_type": "execute_result"
    }
   ],
   "source": [
    "np.random.seed(100)\n",
    "points = np.random.rand(10, 2) * 5\n",
    "points = np.concatenate([points, np.zeros((10, 1))], axis=1)\n",
    "points_tensor = torch.tensor(points.astype(np.float32))\n",
    "points"
   ]
  },
  {
   "cell_type": "code",
   "execution_count": 241,
   "id": "e7afcfba",
   "metadata": {},
   "outputs": [
    {
     "data": {
      "text/plain": [
       "<matplotlib.collections.PathCollection at 0x7fb37ddc6df0>"
      ]
     },
     "execution_count": 241,
     "metadata": {},
     "output_type": "execute_result"
    },
    {
     "data": {
      "image/png": "[encoded data removed]",
      "text/plain": [
       "<Figure size 432x288 with 1 Axes>"
      ]
     },
     "metadata": {
      "needs_background": "light"
     },
     "output_type": "display_data"
    }
   ],
   "source": [
    "plt.scatter(points[:, 0], points[:, 1])"
   ]
  },
  {
   "cell_type": "code",
   "execution_count": 242,
   "id": "ae5cd5bb",
   "metadata": {},
   "outputs": [],
   "source": [
    "def matrix_from_position(position):\n",
    "    result = np.zeros()"
   ]
  },
  {
   "cell_type": "code",
   "execution_count": 243,
   "id": "8599275f",
   "metadata": {},
   "outputs": [
    {
     "data": {
      "text/plain": [
       "1.8364679025753081"
      ]
     },
     "execution_count": 243,
     "metadata": {},
     "output_type": "execute_result"
    },
    {
     "data": {
      "image/png": "[encoded data removed]",
      "text/plain": [
       "<Figure size 432x288 with 1 Axes>"
      ]
     },
     "metadata": {
      "needs_background": "light"
     },
     "output_type": "display_data"
    }
   ],
   "source": [
    "position1 = Position3.from_vec(np.array([1, 1, 0, 0, 0, 1]))\n",
    "position2 = Position3.from_vec(np.array([3, 2, 0, 0, 0, 2]))\n",
    "delta_position = position1 * position2.inv()\n",
    "\n",
    "points1 = position1.apply(points)\n",
    "points2 = position2.apply(points)\n",
    "plt.scatter(points1[:, 0], points1[:, 1])\n",
    "plt.scatter(points2[:, 0], points2[:, 1])\n",
    "loss = np.mean((points1 - points2) ** 2)\n",
    "loss"
   ]
  },
  {
   "cell_type": "markdown",
   "id": "dc69c321",
   "metadata": {},
   "source": [
    "# Liegroups module"
   ]
  },
  {
   "cell_type": "code",
   "execution_count": 244,
   "id": "46488c32",
   "metadata": {},
   "outputs": [
    {
     "data": {
      "text/plain": [
       "tensor(1.8365, grad_fn=<MeanBackward0>)"
      ]
     },
     "execution_count": 244,
     "metadata": {},
     "output_type": "execute_result"
    }
   ],
   "source": [
    "log_position1 = position1.as_se3().log()\n",
    "log_position2 = position2.as_se3().log()\n",
    "log_position1.requires_grad = True\n",
    "points_tensor_hom = torch.ones(points_tensor.shape[0], 4)\n",
    "points_tensor_hom[:, :3] = points_tensor\n",
    "points1 = (points_tensor_hom @ SE3.exp(log_position1).as_matrix().T)[:, :3]\n",
    "points2 = (points_tensor_hom @ SE3.exp(log_position2).as_matrix().T)[:, :3]\n",
    "loss = torch.mean((points1 - points2) ** 2)\n",
    "loss.backward()\n",
    "loss"
   ]
  },
  {
   "cell_type": "code",
   "execution_count": 245,
   "id": "e8833577",
   "metadata": {},
   "outputs": [
    {
     "data": {
      "text/plain": [
       "tensor([ 0.5113,  0.4045,  0.0000,  0.0000,  0.0000, -3.8233])"
      ]
     },
     "execution_count": 245,
     "metadata": {},
     "output_type": "execute_result"
    }
   ],
   "source": [
    "log_position1.grad"
   ]
  },
  {
   "cell_type": "markdown",
   "id": "d3a9aefe",
   "metadata": {},
   "source": [
    "# Lietorch module"
   ]
  },
  {
   "cell_type": "code",
   "execution_count": 246,
   "id": "7981f949",
   "metadata": {},
   "outputs": [
    {
     "data": {
      "text/plain": [
       "tensor(1.8365, grad_fn=<MeanBackward0>)"
      ]
     },
     "execution_count": 246,
     "metadata": {},
     "output_type": "execute_result"
    }
   ],
   "source": [
    "log_position1 = position1.as_se3_torch(False).log()\n",
    "log_position1.requires_grad = True\n",
    "points1 = lietorch.SE3.exp(log_position1).act(points_tensor)\n",
    "points2 = position2.as_se3_torch(False).act(points_tensor)\n",
    "loss = torch.mean((points1 - points2) ** 2)\n",
    "loss.backward()\n",
    "loss"
   ]
  },
  {
   "cell_type": "code",
   "execution_count": 247,
   "id": "a9c666ba",
   "metadata": {},
   "outputs": [
    {
     "data": {
      "text/plain": [
       "tensor([[ 0.5113,  0.4045,  0.0000,  0.0000,  0.0000, -3.8233]])"
      ]
     },
     "execution_count": 247,
     "metadata": {},
     "output_type": "execute_result"
    }
   ],
   "source": [
    "log_position1.grad"
   ]
  },
  {
   "cell_type": "code",
   "execution_count": 250,
   "id": "6dd3211e",
   "metadata": {},
   "outputs": [
    {
     "data": {
      "text/plain": [
       "tensor(1.8365, grad_fn=<MeanBackward0>)"
      ]
     },
     "execution_count": 250,
     "metadata": {},
     "output_type": "execute_result"
    }
   ],
   "source": [
    "lie_position1 = position1.as_se3_torch(True)\n",
    "# lie_position1.data.retain_grad()\n",
    "# log_position1.requires_grad = True\n",
    "points1 = lie_position1.act(points_tensor)\n",
    "points2 = position2.as_se3_torch(False).act(points_tensor)\n",
    "loss = torch.mean((points1 - points2) ** 2)\n",
    "loss.backward()\n",
    "loss"
   ]
  },
  {
   "cell_type": "code",
   "execution_count": 251,
   "id": "46c1cb8e",
   "metadata": {},
   "outputs": [
    {
     "data": {
      "text/plain": [
       "tensor([[ 0.2657,  0.6259,  0.0000,  0.0000,  0.0000, -3.5676,  0.0000]])"
      ]
     },
     "execution_count": 251,
     "metadata": {},
     "output_type": "execute_result"
    }
   ],
   "source": [
    "lie_position1.data.grad"
   ]
  },
  {
   "cell_type": "code",
   "execution_count": 253,
   "id": "85c1ecbd",
   "metadata": {},
   "outputs": [
    {
     "data": {
      "text/plain": [
       "SE3: size=torch.Size([1]), device=cpu, dtype=torch.float32"
      ]
     },
     "execution_count": 253,
     "metadata": {},
     "output_type": "execute_result"
    }
   ],
   "source": [
    "lie_position1 * lie_position1"
   ]
  },
  {
   "cell_type": "code",
   "execution_count": 254,
   "id": "fda142fe",
   "metadata": {},
   "outputs": [],
   "source": [
    "?torch.autograd.grad"
   ]
  },
  {
   "cell_type": "code",
   "execution_count": 257,
   "id": "98ace9d3",
   "metadata": {},
   "outputs": [
    {
     "ename": "AttributeError",
     "evalue": "'SE3' object has no attribute 'requires_grad'",
     "output_type": "error",
     "traceback": [
      "\u001b[0;31m---------------------------------------------------------------------------\u001b[0m",
      "\u001b[0;31mAttributeError\u001b[0m                            Traceback (most recent call last)",
      "\u001b[0;32m/tmp/ipykernel_309825/3193524719.py\u001b[0m in \u001b[0;36m<module>\u001b[0;34m\u001b[0m\n\u001b[0;32m----> 1\u001b[0;31m \u001b[0mtorch\u001b[0m\u001b[0;34m.\u001b[0m\u001b[0mautograd\u001b[0m\u001b[0;34m.\u001b[0m\u001b[0mgrad\u001b[0m\u001b[0;34m(\u001b[0m\u001b[0mlie_position1\u001b[0m\u001b[0;34m,\u001b[0m \u001b[0mlie_position1\u001b[0m\u001b[0;34m)\u001b[0m\u001b[0;34m\u001b[0m\u001b[0;34m\u001b[0m\u001b[0m\n\u001b[0m",
      "\u001b[0;32m/usr/local/lib/python3.9/dist-packages/torch/autograd/__init__.py\u001b[0m in \u001b[0;36mgrad\u001b[0;34m(outputs, inputs, grad_outputs, retain_graph, create_graph, only_inputs, allow_unused)\u001b[0m\n\u001b[1;32m    219\u001b[0m \u001b[0;34m\u001b[0m\u001b[0m\n\u001b[1;32m    220\u001b[0m     \u001b[0mgrad_outputs_\u001b[0m \u001b[0;34m=\u001b[0m \u001b[0m_tensor_or_tensors_to_tuple\u001b[0m\u001b[0;34m(\u001b[0m\u001b[0mgrad_outputs\u001b[0m\u001b[0;34m,\u001b[0m \u001b[0mlen\u001b[0m\u001b[0;34m(\u001b[0m\u001b[0moutputs\u001b[0m\u001b[0;34m)\u001b[0m\u001b[0;34m)\u001b[0m\u001b[0;34m\u001b[0m\u001b[0;34m\u001b[0m\u001b[0m\n\u001b[0;32m--> 221\u001b[0;31m     \u001b[0mgrad_outputs_\u001b[0m \u001b[0;34m=\u001b[0m \u001b[0m_make_grads\u001b[0m\u001b[0;34m(\u001b[0m\u001b[0moutputs\u001b[0m\u001b[0;34m,\u001b[0m \u001b[0mgrad_outputs_\u001b[0m\u001b[0;34m)\u001b[0m\u001b[0;34m\u001b[0m\u001b[0;34m\u001b[0m\u001b[0m\n\u001b[0m\u001b[1;32m    222\u001b[0m \u001b[0;34m\u001b[0m\u001b[0m\n\u001b[1;32m    223\u001b[0m     \u001b[0;32mif\u001b[0m \u001b[0mretain_graph\u001b[0m \u001b[0;32mis\u001b[0m \u001b[0;32mNone\u001b[0m\u001b[0;34m:\u001b[0m\u001b[0;34m\u001b[0m\u001b[0;34m\u001b[0m\u001b[0m\n",
      "\u001b[0;32m/usr/local/lib/python3.9/dist-packages/torch/autograd/__init__.py\u001b[0m in \u001b[0;36m_make_grads\u001b[0;34m(outputs, grads)\u001b[0m\n\u001b[1;32m     46\u001b[0m             \u001b[0mnew_grads\u001b[0m\u001b[0;34m.\u001b[0m\u001b[0mappend\u001b[0m\u001b[0;34m(\u001b[0m\u001b[0mgrad\u001b[0m\u001b[0;34m)\u001b[0m\u001b[0;34m\u001b[0m\u001b[0;34m\u001b[0m\u001b[0m\n\u001b[1;32m     47\u001b[0m         \u001b[0;32melif\u001b[0m \u001b[0mgrad\u001b[0m \u001b[0;32mis\u001b[0m \u001b[0;32mNone\u001b[0m\u001b[0;34m:\u001b[0m\u001b[0;34m\u001b[0m\u001b[0;34m\u001b[0m\u001b[0m\n\u001b[0;32m---> 48\u001b[0;31m             \u001b[0;32mif\u001b[0m \u001b[0mout\u001b[0m\u001b[0;34m.\u001b[0m\u001b[0mrequires_grad\u001b[0m\u001b[0;34m:\u001b[0m\u001b[0;34m\u001b[0m\u001b[0;34m\u001b[0m\u001b[0m\n\u001b[0m\u001b[1;32m     49\u001b[0m                 \u001b[0;32mif\u001b[0m \u001b[0mout\u001b[0m\u001b[0;34m.\u001b[0m\u001b[0mnumel\u001b[0m\u001b[0;34m(\u001b[0m\u001b[0;34m)\u001b[0m \u001b[0;34m!=\u001b[0m \u001b[0;36m1\u001b[0m\u001b[0;34m:\u001b[0m\u001b[0;34m\u001b[0m\u001b[0;34m\u001b[0m\u001b[0m\n\u001b[1;32m     50\u001b[0m                     \u001b[0;32mraise\u001b[0m \u001b[0mRuntimeError\u001b[0m\u001b[0;34m(\u001b[0m\u001b[0;34m\"grad can be implicitly created only for scalar outputs\"\u001b[0m\u001b[0;34m)\u001b[0m\u001b[0;34m\u001b[0m\u001b[0;34m\u001b[0m\u001b[0m\n",
      "\u001b[0;31mAttributeError\u001b[0m: 'SE3' object has no attribute 'requires_grad'"
     ]
    }
   ],
   "source": [
    "torch.autograd.grad(lie_position1, lie_position1)"
   ]
  },
  {
   "cell_type": "code",
   "execution_count": null,
   "id": "c032c2b6",
   "metadata": {},
   "outputs": [],
   "source": []
  }
 ],
 "metadata": {
  "kernelspec": {
   "display_name": "Python 3 (ipykernel)",
   "language": "python",
   "name": "python3"
  },
  "language_info": {
   "codemirror_mode": {
    "name": "ipython",
    "version": 3
   },
   "file_extension": ".py",
   "mimetype": "text/x-python",
   "name": "python",
   "nbconvert_exporter": "python",
   "pygments_lexer": "ipython3",
   "version": "3.9.9"
  }
 },
 "nbformat": 4,
 "nbformat_minor": 5
}
